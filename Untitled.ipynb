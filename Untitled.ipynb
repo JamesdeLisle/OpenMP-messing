{
 "cells": [
  {
   "cell_type": "code",
   "execution_count": null,
   "metadata": {
    "collapsed": false
   },
   "outputs": [
    {
     "name": "stdout",
     "output_type": "stream",
     "text": [
      "[<matplotlib.lines.Line2D object at 0x7f03a540b6d0>, <matplotlib.lines.Line2D object at 0x7f03a52e9a90>, <matplotlib.lines.Line2D object at 0x7f03a5403e10>, <matplotlib.lines.Line2D object at 0x7f03a540b090>, <matplotlib.lines.Line2D object at 0x7f03d009bb10>, <matplotlib.lines.Line2D object at 0x7f03a54034d0>, <matplotlib.lines.Line2D object at 0x7f03a5410690>, <matplotlib.lines.Line2D object at 0x7f03a5410c90>]\n"
     ]
    }
   ],
   "source": [
    "import matplotlib.pyplot as plt\n",
    "import numpy as np\n",
    "\n",
    "niter = 6\n",
    "\n",
    "with open(\"output.dat\", 'r') as f:\n",
    "    lines = f.read().splitlines()\n",
    "\n",
    "data = np.zeros(shape=(2, 4, niter))\n",
    "\n",
    "w = []\n",
    "for line in lines:\n",
    "    w.append(line.split())\n",
    "\n",
    "\n",
    "    \n",
    "x = []\n",
    "for i in range(4):\n",
    "    for j in range(niter):\n",
    "        k = i * niter + j\n",
    "        data[0, i, j] = float(w[k][2])\n",
    "        data[1, i, j] = float(w[k][3])\n",
    "        if k < niter:\n",
    "            x.append(float(w[k][0]))\n",
    "\n",
    "\n",
    "styles = ['r', 'b','g','m']\n",
    "LINES1 = []\n",
    "LINES2 = []\n",
    "for i in range(4):\n",
    "    LINES1 += plt.plot(np.log10(x), \n",
    "                      np.log(data[0, i, :]), \n",
    "                      linestyle='-', \n",
    "                      color=styles[i], \n",
    "                      marker='.', \n",
    "                      markersize=10, \n",
    "                      label=\"Serial (Threads %d)\" % i)\n",
    "    LINES2 += plt.plot(np.log10(x), \n",
    "                      np.log(data[1, i, :]), \n",
    "                      linestyle=':', \n",
    "                      color=styles[i], \n",
    "                      marker='.', \n",
    "                      markersize=10, \n",
    "                      label=\"Parallel (Threads %d)\" % i)\n",
    "\n",
    "print LINES\n",
    "plt.ylabel(r\"$\\log_{10}(T)$\")\n",
    "plt.xlabel(r\"$\\log_{10}(N)$\")\n",
    "plt.legend(handles=LINES1+LINES2, loc='upper left')\n",
    "plt.show()"
   ]
  },
  {
   "cell_type": "code",
   "execution_count": null,
   "metadata": {
    "collapsed": true
   },
   "outputs": [],
   "source": []
  },
  {
   "cell_type": "code",
   "execution_count": null,
   "metadata": {
    "collapsed": true
   },
   "outputs": [],
   "source": []
  }
 ],
 "metadata": {
  "kernelspec": {
   "display_name": "Python [Root]",
   "language": "python",
   "name": "Python [Root]"
  },
  "language_info": {
   "codemirror_mode": {
    "name": "ipython",
    "version": 2
   },
   "file_extension": ".py",
   "mimetype": "text/x-python",
   "name": "python",
   "nbconvert_exporter": "python",
   "pygments_lexer": "ipython2",
   "version": "2.7.12"
  }
 },
 "nbformat": 4,
 "nbformat_minor": 0
}
